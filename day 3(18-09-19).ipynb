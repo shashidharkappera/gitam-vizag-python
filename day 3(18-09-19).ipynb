{
 "cells": [
  {
   "cell_type": "code",
   "execution_count": 1,
   "metadata": {},
   "outputs": [
    {
     "name": "stdout",
     "output_type": "stream",
     "text": [
      "python\n",
      "programming\n",
      "A\n",
      "<class 'str'>\n",
      "<class 'str'>\n",
      "<class 'str'>\n"
     ]
    }
   ],
   "source": [
    "a='python'\n",
    "b=\"programming\"\n",
    "c='A'\n",
    "print(a)\n",
    "print(b)\n",
    "print(c)\n",
    "print(type(a))\n",
    "print(type(b))\n",
    "print(type(c))"
   ]
  },
  {
   "cell_type": "code",
   "execution_count": 12,
   "metadata": {},
   "outputs": [
    {
     "name": "stdout",
     "output_type": "stream",
     "text": [
      "p\n",
      "6\n",
      "n\n",
      "n\n",
      "t\n"
     ]
    }
   ],
   "source": [
    "a=\"python\"\n",
    "print(a[0])\n",
    "print(len(a))\n",
    "print(a[len(a)-1])\n",
    "print(a[-1])\n",
    "print(a[-4])"
   ]
  },
  {
   "cell_type": "code",
   "execution_count": 20,
   "metadata": {},
   "outputs": [
    {
     "name": "stdout",
     "output_type": "stream",
     "text": [
      "py\n",
      "on\n",
      "thon\n",
      "tho\n",
      "yp\n",
      "ytho\n"
     ]
    }
   ],
   "source": [
    "print(a[0:2])\n",
    "print(a[-2:])\n",
    "print(a[-4:])\n",
    "print(a[2:5])\n",
    "print(a[1::-1])\n",
    "print(a[1:-1])"
   ]
  },
  {
   "cell_type": "code",
   "execution_count": 21,
   "metadata": {},
   "outputs": [
    {
     "data": {
      "text/plain": [
       "'pto'"
      ]
     },
     "execution_count": 21,
     "metadata": {},
     "output_type": "execute_result"
    }
   ],
   "source": [
    "a[::2]"
   ]
  },
  {
   "cell_type": "code",
   "execution_count": 28,
   "metadata": {},
   "outputs": [
    {
     "data": {
      "text/plain": [
       "'nohtyp'"
      ]
     },
     "execution_count": 28,
     "metadata": {},
     "output_type": "execute_result"
    }
   ],
   "source": [
    "a[-1::-1]"
   ]
  },
  {
   "cell_type": "code",
   "execution_count": 25,
   "metadata": {},
   "outputs": [
    {
     "data": {
      "text/plain": [
       "'nhy'"
      ]
     },
     "execution_count": 25,
     "metadata": {},
     "output_type": "execute_result"
    }
   ],
   "source": [
    "a[::-2]"
   ]
  },
  {
   "cell_type": "code",
   "execution_count": 26,
   "metadata": {},
   "outputs": [
    {
     "data": {
      "text/plain": [
       "'ph'"
      ]
     },
     "execution_count": 26,
     "metadata": {},
     "output_type": "execute_result"
    }
   ],
   "source": [
    "a[::3]"
   ]
  },
  {
   "cell_type": "code",
   "execution_count": 30,
   "metadata": {},
   "outputs": [
    {
     "data": {
      "text/plain": [
       "'htarahb'"
      ]
     },
     "execution_count": 30,
     "metadata": {},
     "output_type": "execute_result"
    }
   ],
   "source": [
    "#reverse the string\n",
    "def revstr(a):\n",
    "    return a[-1::-1]\n",
    "revstr('bharath')"
   ]
  },
  {
   "cell_type": "code",
   "execution_count": 32,
   "metadata": {},
   "outputs": [
    {
     "name": "stdout",
     "output_type": "stream",
     "text": [
      "False\n",
      "True\n"
     ]
    }
   ],
   "source": [
    "#palindrome or not\n",
    "def ispalendrome(a):\n",
    "    if a==a[-1::-1]:\n",
    "        return True\n",
    "    return False\n",
    "print(ispalendrome(\"python\"))\n",
    "print(ispalendrome(\"madam\"))"
   ]
  },
  {
   "cell_type": "code",
   "execution_count": 36,
   "metadata": {},
   "outputs": [
    {
     "name": "stdout",
     "output_type": "stream",
     "text": [
      "P T O "
     ]
    }
   ],
   "source": [
    "#ASCII\n",
    "#A-Z :65-90\n",
    "#a-z :97-122\n",
    "#0-9 :48-57\n",
    "# space :32\n",
    "def printupper(a):\n",
    "    for i in range(len(a)):\n",
    "        if ord(a[i])>=65 and ord(a[i])<=90:\n",
    "            print(a[i],end=' ')\n",
    "    return\n",
    "printupper('PyThOn')"
   ]
  },
  {
   "cell_type": "code",
   "execution_count": 35,
   "metadata": {},
   "outputs": [
    {
     "data": {
      "text/plain": [
       "66"
      ]
     },
     "execution_count": 35,
     "metadata": {},
     "output_type": "execute_result"
    }
   ],
   "source": [
    "ord('B')"
   ]
  },
  {
   "cell_type": "code",
   "execution_count": 43,
   "metadata": {},
   "outputs": [
    {
     "data": {
      "text/plain": [
       "32"
      ]
     },
     "execution_count": 43,
     "metadata": {},
     "output_type": "execute_result"
    }
   ],
   "source": [
    "ord(' ')"
   ]
  },
  {
   "cell_type": "code",
   "execution_count": 46,
   "metadata": {},
   "outputs": [
    {
     "name": "stdout",
     "output_type": "stream",
     "text": [
      "same count\n",
      "programming\n"
     ]
    }
   ],
   "source": [
    "def findcharcount(s):\n",
    "    cntupper=0\n",
    "    cntlower=0\n",
    "    for i in range(len(s)):\n",
    "        if ord(s[i])>=65 and ord(s[i])<=90:\n",
    "            cntupper+=1\n",
    "        elif ord(s[i])>=97 and ord(s[i])<=122:\n",
    "            cntlower+=1\n",
    "    if cntlower==cntupper:\n",
    "        return \"same count\"\n",
    "    return \"programming\"\n",
    "print(findcharcount('PyThoN'))\n",
    "print(findcharcount('PyThon'))\n",
    "        "
   ]
  },
  {
   "cell_type": "code",
   "execution_count": 47,
   "metadata": {},
   "outputs": [
    {
     "name": "stdout",
     "output_type": "stream",
     "text": [
      "1 8 8 9 "
     ]
    }
   ],
   "source": [
    "def printnum(a):\n",
    "    for i in range(len(a)):\n",
    "        if ord(a[i])>=48 and ord(a[i])<=57:\n",
    "            print(a[i],end=' ')\n",
    "    return\n",
    "printnum('Appli18cation89')"
   ]
  },
  {
   "cell_type": "code",
   "execution_count": 52,
   "metadata": {},
   "outputs": [
    {
     "data": {
      "text/plain": [
       "26"
      ]
     },
     "execution_count": 52,
     "metadata": {},
     "output_type": "execute_result"
    }
   ],
   "source": [
    "def printnum(a):\n",
    "    sum=0\n",
    "    for i in range(len(a)):\n",
    "        if ord(a[i])>=48 and ord(a[i])<=57:\n",
    "            sum=sum+(ord(a[i])-48)\n",
    "    return sum\n",
    "printnum('Appli18cation89')"
   ]
  },
  {
   "cell_type": "code",
   "execution_count": 60,
   "metadata": {},
   "outputs": [
    {
     "name": "stdout",
     "output_type": "stream",
     "text": [
      "MADE"
     ]
    }
   ],
   "source": [
    "def word(a):\n",
    "    space=0\n",
    "    for i in range(len(a)):\n",
    "        if ord(a[i])==32:\n",
    "            space+=1\n",
    "        if space==1:\n",
    "            if ord(a[i])>=65 and ord(a[i])<=90:\n",
    "                print(a[i],end='')\n",
    "            elif ord(a[i])>=97 and ord(a[i])<=122:\n",
    "                print(chr(ord(a[i])-32),end='')\n",
    "        if space==2:\n",
    "            break\n",
    "    return\n",
    "word('Python Made Easy')\n",
    "            "
   ]
  },
  {
   "cell_type": "code",
   "execution_count": 64,
   "metadata": {},
   "outputs": [
    {
     "name": "stdout",
     "output_type": "stream",
     "text": [
      "[1, 2, 3, 4, 5]\n",
      "3\n",
      "4\n"
     ]
    }
   ],
   "source": [
    "li=[1,2,3,4,5]\n",
    "print(li)\n",
    "print(li[2])\n",
    "print(li[-2])"
   ]
  },
  {
   "cell_type": "code",
   "execution_count": 67,
   "metadata": {},
   "outputs": [
    {
     "name": "stdout",
     "output_type": "stream",
     "text": [
      "['Gitam', 345, 457, 658, 'Vizag']\n",
      "['Gitam', 123, 457, 658, 'Vizag']\n"
     ]
    }
   ],
   "source": [
    "li=[\"Gitam\",345,457,658,\"Vizag\"]\n",
    "print(li)\n",
    "li[1]=123 #update list item\n",
    "print(li)"
   ]
  },
  {
   "cell_type": "code",
   "execution_count": 68,
   "metadata": {},
   "outputs": [
    {
     "name": "stdout",
     "output_type": "stream",
     "text": [
      "['Gitam', 123, 457, 'Vizag']\n"
     ]
    }
   ],
   "source": [
    "del li[3] #delete\n",
    "print(li)"
   ]
  },
  {
   "cell_type": "code",
   "execution_count": 72,
   "metadata": {},
   "outputs": [
    {
     "name": "stdout",
     "output_type": "stream",
     "text": [
      "5\n",
      "[1, 2, 3, 4, 5, 1, 2, 3, 4, 5]\n",
      "True\n",
      "False\n",
      "1 2 3 4 5 "
     ]
    }
   ],
   "source": [
    "li=[1,2,3,4,5]\n",
    "print(len(li))\n",
    "print(li *2)\n",
    "print(4 in li)\n",
    "print(10 in li)\n",
    "for i in range(len(li)):\n",
    "    print(li[i],end=' ')"
   ]
  },
  {
   "cell_type": "code",
   "execution_count": 77,
   "metadata": {},
   "outputs": [
    {
     "name": "stdout",
     "output_type": "stream",
     "text": [
      "25\n",
      "1\n",
      "56\n",
      "11\n"
     ]
    }
   ],
   "source": [
    "li=[1,9,16,25,5]\n",
    "print(max(li)) #max no\n",
    "print(min(li)) #min no\n",
    "print(sum(li)) #sum of no\n",
    "print(sum(li)//len(li)) #average"
   ]
  },
  {
   "cell_type": "code",
   "execution_count": 15,
   "metadata": {},
   "outputs": [
    {
     "name": "stdout",
     "output_type": "stream",
     "text": [
      "file is succesfully created and data has inserted\n"
     ]
    }
   ],
   "source": [
    "def createFile(filename):\n",
    "    f=open(filename,'w')\n",
    "    for i in range(10):\n",
    "        f.write('this is %d line\\n'%i)\n",
    "    print('file is succesfully created and data has inserted')\n",
    "    return\n",
    "createFile('data.txt')"
   ]
  },
  {
   "cell_type": "code",
   "execution_count": 16,
   "metadata": {},
   "outputs": [
    {
     "data": {
      "text/plain": [
       "'C:\\\\Users\\\\Shashidhar\\\\Desktop\\\\problem solving and programming\\\\day 3(18-09-19)'"
      ]
     },
     "execution_count": 16,
     "metadata": {},
     "output_type": "execute_result"
    }
   ],
   "source": [
    "pwd"
   ]
  },
  {
   "cell_type": "code",
   "execution_count": 17,
   "metadata": {},
   "outputs": [
    {
     "name": "stdout",
     "output_type": "stream",
     "text": [
      "program completed successfully\n"
     ]
    }
   ],
   "source": [
    "def appendMode(filename):\n",
    "    f=open(filename,'a')\n",
    "    f.write('gitam vizag\\n')\n",
    "    f.write('python programming\\n')\n",
    "    print('program completed successfully')\n",
    "    return\n",
    "appendMode('data.txt')"
   ]
  },
  {
   "cell_type": "code",
   "execution_count": 18,
   "metadata": {},
   "outputs": [
    {
     "data": {
      "text/plain": [
       "'C:\\\\Users\\\\Shashidhar\\\\Desktop\\\\problem solving and programming\\\\day 3(18-09-19)'"
      ]
     },
     "execution_count": 18,
     "metadata": {},
     "output_type": "execute_result"
    }
   ],
   "source": [
    "pwd"
   ]
  },
  {
   "cell_type": "code",
   "execution_count": 19,
   "metadata": {},
   "outputs": [
    {
     "name": "stdout",
     "output_type": "stream",
     "text": [
      "this is 0 line\n",
      "this is 1 line\n",
      "this is 2 line\n",
      "this is 3 line\n",
      "this is 4 line\n",
      "this is 5 line\n",
      "this is 6 line\n",
      "this is 7 line\n",
      "this is 8 line\n",
      "this is 9 line\n",
      "gitam vizag\n",
      "python programming\n",
      "\n"
     ]
    }
   ],
   "source": [
    "def readFiledata(filename):\n",
    "    f=open(filename,'r')\n",
    "    if f.mode=='r':\n",
    "        a=f.read()\n",
    "        print(a)\n",
    "    f.close()\n",
    "    return\n",
    "readFiledata('data.txt')"
   ]
  },
  {
   "cell_type": "code",
   "execution_count": 21,
   "metadata": {},
   "outputs": [
    {
     "data": {
      "text/plain": [
       "44"
      ]
     },
     "execution_count": 21,
     "metadata": {},
     "output_type": "execute_result"
    }
   ],
   "source": [
    "def wordcount(filename):\n",
    "    with open(filename,'r')as f:\n",
    "        if f.mode=='r':\n",
    "            a=f.read()\n",
    "            li=a.split()\n",
    "    return len(li)\n",
    "wordcount('data.txt')"
   ]
  },
  {
   "cell_type": "code",
   "execution_count": null,
   "metadata": {},
   "outputs": [],
   "source": [
    "# specific word count from the file\n",
    "# example 1\n",
    "# input--this\n",
    "# output \n",
    "    "
   ]
  },
  {
   "cell_type": "code",
   "execution_count": null,
   "metadata": {},
   "outputs": [],
   "source": []
  }
 ],
 "metadata": {
  "kernelspec": {
   "display_name": "Python 3",
   "language": "python",
   "name": "python3"
  },
  "language_info": {
   "codemirror_mode": {
    "name": "ipython",
    "version": 3
   },
   "file_extension": ".py",
   "mimetype": "text/x-python",
   "name": "python",
   "nbconvert_exporter": "python",
   "pygments_lexer": "ipython3",
   "version": "3.7.3"
  }
 },
 "nbformat": 4,
 "nbformat_minor": 2
}
