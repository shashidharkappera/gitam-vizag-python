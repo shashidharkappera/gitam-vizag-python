{
 "cells": [
  {
   "cell_type": "code",
   "execution_count": null,
   "metadata": {},
   "outputs": [],
   "source": [
    "# design spiral star\n",
    "import turtle as t\n",
    "a=t.Turtle()\n",
    "a.pencolour('blue')\n",
    "for i in range(50):\n",
    "    a.forward(i*10)\n",
    "    a.left(144)\n",
    "t.done()"
   ]
  },
  {
   "cell_type": "code",
   "execution_count": null,
   "metadata": {},
   "outputs": [],
   "source": [
    "# design spiral square\n",
    "import turtle as t\n",
    "a=t.Turtle()\n",
    "a.pencolor('blue')\n",
    "for i in range(500):\n",
    "    a.forward(i)\n",
    "    a.left(91)\n",
    "t.done()\n"
   ]
  },
  {
   "cell_type": "code",
   "execution_count": null,
   "metadata": {},
   "outputs": [],
   "source": [
    "# design hexagon\n",
    "from turtle import * \n",
    "pencolor('blue')\n",
    "colors=['blue','green','red','yellow','orange','purple']\n",
    "for i in range(360):\n",
    "    pencolor(colors[i%6])\n",
    "    width(i/100+1)\n",
    "    forward(i)\n",
    "    left(59)"
   ]
  },
  {
   "cell_type": "code",
   "execution_count": null,
   "metadata": {},
   "outputs": [],
   "source": [
    "# design circle\n",
    "from turtle import *\n",
    "pensize(20)\n",
    "pencolor('blue')\n",
    "fillcolor('purple')\n",
    "begin_fill()\n",
    "circle(100)\n",
    "end_fill()"
   ]
  },
  {
   "cell_type": "code",
   "execution_count": null,
   "metadata": {},
   "outputs": [],
   "source": [
    "# design TAngent circle\n",
    "from turtle import *\n",
    "pensize(2)\n",
    "pencolor('orange')\n",
    "for i in range(15):\n",
    "    circle(10*i)"
   ]
  },
  {
   "cell_type": "code",
   "execution_count": null,
   "metadata": {},
   "outputs": [],
   "source": [
    "# design Spiral circle\n",
    "from turtle import *\n",
    "pensize(2)\n",
    "pencolor('orange')\n",
    "for i in range(100):\n",
    "    circle(10+i,45)\n"
   ]
  },
  {
   "cell_type": "code",
   "execution_count": null,
   "metadata": {},
   "outputs": [],
   "source": [
    "# design circle\n",
    "from turtle import *\n",
    "pensize(2)\n",
    "colors=('orange','green','red','blue','yellow','purple')\n",
    "for i in range(30):\n",
    "    pencolor(colors[i%6])\n",
    "    circle(10*i)\n",
    "    up()\n",
    "    sety((10*i)*(-1))\n",
    "    down()"
   ]
  },
  {
   "cell_type": "code",
   "execution_count": null,
   "metadata": {},
   "outputs": [],
   "source": [
    "# design Olympics logo\n",
    "from turtle import *\n",
    "pensize(6) # Set the pencsize to 6 pixels\n",
    "r1=[\"blue\",\"black\",\"red\"]\n",
    "for i in range(3):\n",
    "    penup()\n",
    "    pencolor(r1[i%3])\n",
    "    goto(i*100,0)\n",
    "    pendown()\n",
    "    circle(45)\n",
    "r2=[\"\",\"yellow\",\"\",\"green\"]\n",
    "for i in range(1,4,2):\n",
    "    penup()\n",
    "    pencolor(r2[i])\n",
    "    goto(i*55,-55)\n",
    "    pendown()\n",
    "    circle(50)\n",
    "    "
   ]
  },
  {
   "cell_type": "code",
   "execution_count": null,
   "metadata": {},
   "outputs": [],
   "source": [
    "# design Audi logo\n",
    "from turtle import *\n",
    "pensize(6) # Set the pencsize to 6 pixel\n",
    "pencolor('black')\n",
    "for i in range(4):\n",
    "    penup()\n",
    "    goto(i*70,0)\n",
    "    pendown()\n",
    "    circle(50)"
   ]
  },
  {
   "cell_type": "code",
   "execution_count": null,
   "metadata": {},
   "outputs": [],
   "source": [
    "# car\n",
    "from turtle import *\n",
    "bgcolor('green')\n",
    "color('#2B28F6')\n",
    "fillcolor('#2B28F6')\n",
    "penup()\n",
    "goto(0,0)\n",
    "begin_fill()\n",
    "forward(570)\n",
    "left(90)\n",
    "forward(80)\n",
    "left(90)\n",
    "forward(570)\n",
    "left(90)\n",
    "forward(80)\n",
    "end_fill()\n",
    "\n",
    "#code for drawing and roof\n",
    "pensize(6)\n",
    "penup()\n",
    "goto(100,50)\n",
    "pendown()\n",
    "setheading(45)\n",
    "forward(100)\n",
    "setheading(0)\n",
    "forward(250)\n",
    "setheading(-45)\n",
    "forward(100)\n",
    "setheading(90)\n",
    "penup()\n",
    "goto(300,50)\n",
    "pendown()\n",
    "forward(75)\n",
    "\n",
    "# code for drawing two typres\n",
    "penup()\n",
    "goto(200,-10)\n",
    "pendown()\n",
    "color('black')\n",
    "fillcolor('black')\n",
    "begin_fill()\n",
    "circle(20)\n",
    "end_fill()\n",
    "penup()\n",
    "goto(400,-10)\n",
    "pendown()\n",
    "color('black')\n",
    "fillcolor('black')\n",
    "begin_fill()\n",
    "circle(20)\n",
    "end_fill()\n",
    "\n"
   ]
  },
  {
   "cell_type": "markdown",
   "metadata": {},
   "source": [
    "### Idiomatic Python\n",
    "- transformation Code int beautiful, idiomatic Python\n",
    "- replaces traditional index manipulation with Python code looping idioms"
   ]
  },
  {
   "cell_type": "code",
   "execution_count": 2,
   "metadata": {},
   "outputs": [
    {
     "name": "stdout",
     "output_type": "stream",
     "text": [
      "1 2 3 4 5 \n",
      "1 2 3 4 5 "
     ]
    }
   ],
   "source": [
    "# looping over the collection\n",
    "li=[1,2,3,4,5]\n",
    "for i in range(len(li)):\n",
    "    print(li[i],end=' ')\n",
    "print()\n",
    "# pythonic way\n",
    "for i in li:\n",
    "    print(i,end=' ')"
   ]
  },
  {
   "cell_type": "code",
   "execution_count": 1,
   "metadata": {},
   "outputs": [
    {
     "name": "stdout",
     "output_type": "stream",
     "text": [
      "0 1 4 9 16 25 \n",
      "0 1 4 9 16 25 "
     ]
    }
   ],
   "source": [
    "# looping over a range of number\n",
    "for i in [0,1,2,3,4,5]:\n",
    "    print(i**2,end=' ')\n",
    "print()\n",
    "# pythonic way\n",
    "for i in range(6):\n",
    "    print(i**2,end=' ')"
   ]
  },
  {
   "cell_type": "code",
   "execution_count": 1,
   "metadata": {},
   "outputs": [
    {
     "name": "stdout",
     "output_type": "stream",
     "text": [
      "5 4 3 2 1 \n",
      "5 4 3 2 1 "
     ]
    }
   ],
   "source": [
    "li=[1,2,3,4,5]\n",
    "for i in range(len(li)-1,-1,-1):\n",
    "    print(li[i],end=\" \")\n",
    "print()\n",
    "for i in reversed(li):\n",
    "    print(i,end=' ')"
   ]
  },
  {
   "cell_type": "code",
   "execution_count": 3,
   "metadata": {},
   "outputs": [
    {
     "name": "stdout",
     "output_type": "stream",
     "text": [
      "0 --> 1\n",
      "1 --> 2\n",
      "2 --> 3\n",
      "3 --> 4\n",
      "4 --> 5\n",
      "\n",
      "0 --> 1\n",
      "1 --> 2\n",
      "2 --> 3\n",
      "3 --> 4\n",
      "4 --> 5\n"
     ]
    }
   ],
   "source": [
    "li=[1,2,3,4,5]\n",
    "for i in range(len(li)):\n",
    "    print(i,'-->',li[i])\n",
    "print()\n",
    "for i,a in enumerate(li):\n",
    "    print(i,'-->',a)"
   ]
  },
  {
   "cell_type": "code",
   "execution_count": 4,
   "metadata": {},
   "outputs": [
    {
     "name": "stdout",
     "output_type": "stream",
     "text": [
      "1 2 8 9 16 25 \n",
      "25169821"
     ]
    }
   ],
   "source": [
    "li=[8,1,25,16,9,2]\n",
    "for i in sorted(li):\n",
    "    print(i,end=' ')\n",
    "print()\n",
    "for i in sorted(li,reverse=True):\n",
    "    print(i,end='')"
   ]
  },
  {
   "cell_type": "code",
   "execution_count": 7,
   "metadata": {},
   "outputs": [
    {
     "name": "stdout",
     "output_type": "stream",
     "text": [
      "Name EmailID address \n"
     ]
    }
   ],
   "source": [
    "d={'Name':'Gitam','EmailID':'gitamhotmail@gmail.com','address':'vizag'}\n",
    "for k in d:\n",
    "    print(k,end=' ')\n",
    "print()"
   ]
  },
  {
   "cell_type": "code",
   "execution_count": 10,
   "metadata": {},
   "outputs": [],
   "source": [
    "for k in d.keys():\n",
    "    if k.startswith('A'):\n",
    "        del d[k]"
   ]
  },
  {
   "cell_type": "code",
   "execution_count": 11,
   "metadata": {},
   "outputs": [
    {
     "name": "stdout",
     "output_type": "stream",
     "text": [
      "{'Name': 'Gitam', 'EmailID': 'gitamhotmail@gmail.com', 'address': 'vizag'}\n"
     ]
    }
   ],
   "source": [
    "print(d)"
   ]
  },
  {
   "cell_type": "code",
   "execution_count": 13,
   "metadata": {},
   "outputs": [
    {
     "name": "stdout",
     "output_type": "stream",
     "text": [
      "Gitam gitamhotmail@gmail.com vizag "
     ]
    }
   ],
   "source": [
    "for k in d.values():\n",
    "    print(k,end=' ')"
   ]
  },
  {
   "cell_type": "code",
   "execution_count": 15,
   "metadata": {},
   "outputs": [
    {
     "name": "stdout",
     "output_type": "stream",
     "text": [
      "285\n",
      "\n",
      "285\n"
     ]
    }
   ],
   "source": [
    "li=[]\n",
    "for i in range(10):\n",
    "    a=i**2\n",
    "    li.append(a)\n",
    "    \n",
    "print(sum(li))\n",
    "print()\n",
    "print(sum(i**2 for i in range(10)))"
   ]
  },
  {
   "cell_type": "code",
   "execution_count": 24,
   "metadata": {},
   "outputs": [
    {
     "name": "stdout",
     "output_type": "stream",
     "text": [
      "s1    35\n",
      "s2    35\n",
      "s3    35\n",
      "dtype: int64\n",
      "s1    35\n",
      "s2    35\n",
      "s3    35\n",
      "dtype: int64\n"
     ]
    }
   ],
   "source": [
    "import pandas as pd\n",
    "internal1={'s1':35,'s2':35,'s3':35}\n",
    "internal2={'s1':35,'s2':35,'s3':35}\n",
    "internal1=pd.Series(internal1)\n",
    "internal2=pd.Series(internal2)\n",
    "print(internal1)\n",
    "print(internal2)"
   ]
  },
  {
   "cell_type": "code",
   "execution_count": 25,
   "metadata": {},
   "outputs": [
    {
     "name": "stdout",
     "output_type": "stream",
     "text": [
      "    Internal1  Internal2\n",
      "s1         35         35\n",
      "s2         35         35\n",
      "s3         35         35\n"
     ]
    }
   ],
   "source": [
    "final={'Internal1':internal1,'Internal2':internal2}\n",
    "final=pd.DataFrame(final)\n",
    "print(final)"
   ]
  },
  {
   "cell_type": "code",
   "execution_count": 26,
   "metadata": {},
   "outputs": [
    {
     "data": {
      "text/plain": [
       "Index(['Internal1', 'Internal2'], dtype='object')"
      ]
     },
     "execution_count": 26,
     "metadata": {},
     "output_type": "execute_result"
    }
   ],
   "source": [
    "final.columns"
   ]
  },
  {
   "cell_type": "code",
   "execution_count": 27,
   "metadata": {},
   "outputs": [
    {
     "data": {
      "text/plain": [
       "array([[35, 35],\n",
       "       [35, 35],\n",
       "       [35, 35]], dtype=int64)"
      ]
     },
     "execution_count": 27,
     "metadata": {},
     "output_type": "execute_result"
    }
   ],
   "source": [
    "final.values"
   ]
  },
  {
   "cell_type": "code",
   "execution_count": 28,
   "metadata": {},
   "outputs": [
    {
     "data": {
      "text/plain": [
       "array([35, 35], dtype=int64)"
      ]
     },
     "execution_count": 28,
     "metadata": {},
     "output_type": "execute_result"
    }
   ],
   "source": [
    "final.values[1]"
   ]
  },
  {
   "cell_type": "code",
   "execution_count": 29,
   "metadata": {},
   "outputs": [
    {
     "name": "stdout",
     "output_type": "stream",
     "text": [
      "internal1- 35 internal2- 35\n",
      "internal1- 35 internal2- 35\n",
      "internal1- 35 internal2- 35\n"
     ]
    }
   ],
   "source": [
    "for row in final.values:\n",
    "    print('internal1-',row[0],'internal2-',row[1])"
   ]
  },
  {
   "cell_type": "code",
   "execution_count": 31,
   "metadata": {},
   "outputs": [
    {
     "data": {
      "text/html": [
       "<div>\n",
       "<style scoped>\n",
       "    .dataframe tbody tr th:only-of-type {\n",
       "        vertical-align: middle;\n",
       "    }\n",
       "\n",
       "    .dataframe tbody tr th {\n",
       "        vertical-align: top;\n",
       "    }\n",
       "\n",
       "    .dataframe thead th {\n",
       "        text-align: right;\n",
       "    }\n",
       "</style>\n",
       "<table border=\"1\" class=\"dataframe\">\n",
       "  <thead>\n",
       "    <tr style=\"text-align: right;\">\n",
       "      <th></th>\n",
       "      <th>Internal1</th>\n",
       "      <th>Internal2</th>\n",
       "    </tr>\n",
       "  </thead>\n",
       "  <tbody>\n",
       "    <tr>\n",
       "      <th>s1</th>\n",
       "      <td>35</td>\n",
       "      <td>35</td>\n",
       "    </tr>\n",
       "    <tr>\n",
       "      <th>s2</th>\n",
       "      <td>35</td>\n",
       "      <td>35</td>\n",
       "    </tr>\n",
       "    <tr>\n",
       "      <th>s3</th>\n",
       "      <td>35</td>\n",
       "      <td>35</td>\n",
       "    </tr>\n",
       "    <tr>\n",
       "      <th>s4</th>\n",
       "      <td>20</td>\n",
       "      <td>18</td>\n",
       "    </tr>\n",
       "  </tbody>\n",
       "</table>\n",
       "</div>"
      ],
      "text/plain": [
       "    Internal1  Internal2\n",
       "s1         35         35\n",
       "s2         35         35\n",
       "s3         35         35\n",
       "s4         20         18"
      ]
     },
     "execution_count": 31,
     "metadata": {},
     "output_type": "execute_result"
    }
   ],
   "source": [
    "final.loc['s4']=[20,18]\n",
    "final"
   ]
  },
  {
   "cell_type": "code",
   "execution_count": 48,
   "metadata": {},
   "outputs": [
    {
     "name": "stdout",
     "output_type": "stream",
     "text": [
      "       GEOID       State   2005   2006   2007   2008   2009   2010   2011  \\\n",
      "0  04000US01     Alabama  37150  37952  42212  44476  39980  40933  42590   \n",
      "1  04000US02      Alaska  55891  56418  62993  63989  61604  57848  57431   \n",
      "2  04000US04     Arizona  45245  46657  62993  46914  45739  46896  48621   \n",
      "3  04000US05    Arkansas  36658  37057  40795  39586  36538  38587  41302   \n",
      "4  04000US06  California  51755  55319  55734  57014  56134  54283  53367   \n",
      "\n",
      "    2012   2013  \n",
      "0  43464  41381  \n",
      "1  63648  61137  \n",
      "2  47044  50602  \n",
      "3  39018  39919  \n",
      "4  57020  57528  \n"
     ]
    }
   ],
   "source": [
    "filepath='C:/Users/Shashidhar/Desktop/problem solving and programming/DataFiles/income.csv'\n",
    "def readCsvData(filepath):\n",
    "    return pd.read_csv(filepath)\n",
    "df=readCsvData(filepath)\n",
    "print(df)"
   ]
  },
  {
   "cell_type": "code",
   "execution_count": 49,
   "metadata": {},
   "outputs": [
    {
     "data": {
      "text/plain": [
       "55350"
      ]
     },
     "execution_count": 49,
     "metadata": {},
     "output_type": "execute_result"
    }
   ],
   "source": [
    "def avgofstate():\n",
    "    s=0\n",
    "    for i in range(2,11):\n",
    "        s+=df.values[4][i]\n",
    "    return s//len(df.values[4][2:])\n",
    "avgofstate()"
   ]
  },
  {
   "cell_type": "code",
   "execution_count": 51,
   "metadata": {},
   "outputs": [
    {
     "data": {
      "text/plain": [
       "['GEOID',\n",
       " 'State',\n",
       " '2005',\n",
       " '2006',\n",
       " '2007',\n",
       " '2008',\n",
       " '2009',\n",
       " '2010',\n",
       " '2011',\n",
       " '2012',\n",
       " '2013']"
      ]
     },
     "execution_count": 51,
     "metadata": {},
     "output_type": "execute_result"
    }
   ],
   "source": [
    "def printDataFrameColumns(df):\n",
    "    li=[]\n",
    "    columns=df.columns\n",
    "    for i in columns:\n",
    "        li.append(i)\n",
    "    return li\n",
    "printDataFrameColumns(df)"
   ]
  },
  {
   "cell_type": "code",
   "execution_count": 52,
   "metadata": {},
   "outputs": [
    {
     "data": {
      "text/plain": [
       "(5, 11)"
      ]
     },
     "execution_count": 52,
     "metadata": {},
     "output_type": "execute_result"
    }
   ],
   "source": [
    "df.shape"
   ]
  },
  {
   "cell_type": "code",
   "execution_count": 53,
   "metadata": {},
   "outputs": [
    {
     "data": {
      "text/plain": [
       "<bound method NDFrame.tail of        GEOID       State   2005   2006   2007   2008   2009   2010   2011  \\\n",
       "0  04000US01     Alabama  37150  37952  42212  44476  39980  40933  42590   \n",
       "1  04000US02      Alaska  55891  56418  62993  63989  61604  57848  57431   \n",
       "2  04000US04     Arizona  45245  46657  62993  46914  45739  46896  48621   \n",
       "3  04000US05    Arkansas  36658  37057  40795  39586  36538  38587  41302   \n",
       "4  04000US06  California  51755  55319  55734  57014  56134  54283  53367   \n",
       "\n",
       "    2012   2013  \n",
       "0  43464  41381  \n",
       "1  63648  61137  \n",
       "2  47044  50602  \n",
       "3  39018  39919  \n",
       "4  57020  57528  >"
      ]
     },
     "execution_count": 53,
     "metadata": {},
     "output_type": "execute_result"
    }
   ],
   "source": [
    "df.tail"
   ]
  },
  {
   "cell_type": "code",
   "execution_count": 54,
   "metadata": {},
   "outputs": [
    {
     "data": {
      "text/plain": [
       "<bound method NDFrame.head of        GEOID       State   2005   2006   2007   2008   2009   2010   2011  \\\n",
       "0  04000US01     Alabama  37150  37952  42212  44476  39980  40933  42590   \n",
       "1  04000US02      Alaska  55891  56418  62993  63989  61604  57848  57431   \n",
       "2  04000US04     Arizona  45245  46657  62993  46914  45739  46896  48621   \n",
       "3  04000US05    Arkansas  36658  37057  40795  39586  36538  38587  41302   \n",
       "4  04000US06  California  51755  55319  55734  57014  56134  54283  53367   \n",
       "\n",
       "    2012   2013  \n",
       "0  43464  41381  \n",
       "1  63648  61137  \n",
       "2  47044  50602  \n",
       "3  39018  39919  \n",
       "4  57020  57528  >"
      ]
     },
     "execution_count": 54,
     "metadata": {},
     "output_type": "execute_result"
    }
   ],
   "source": [
    "df.head"
   ]
  },
  {
   "cell_type": "code",
   "execution_count": 55,
   "metadata": {},
   "outputs": [
    {
     "name": "stdout",
     "output_type": "stream",
     "text": [
      "['ad', 'ae', 'af', 'bd', 'be', 'bf', 'cd', 'ce', 'cf']\n"
     ]
    }
   ],
   "source": [
    "print([i+j for i in \"abc\" for j in \"def\"])"
   ]
  },
  {
   "cell_type": "code",
   "execution_count": 56,
   "metadata": {},
   "outputs": [
    {
     "data": {
      "text/plain": [
       "[0, 4, 16, 36, 64]"
      ]
     },
     "execution_count": 56,
     "metadata": {},
     "output_type": "execute_result"
    }
   ],
   "source": [
    " list(map((lambda x:x**2), filter((lambda x:x%2==0), range(10))))"
   ]
  },
  {
   "cell_type": "code",
   "execution_count": 57,
   "metadata": {},
   "outputs": [
    {
     "data": {
      "text/plain": [
       "[2, 3, 0, 1, 6, 7, 4, 5, 10, 11]"
      ]
     },
     "execution_count": 57,
     "metadata": {},
     "output_type": "execute_result"
    }
   ],
   "source": [
    "list(map((lambda x:x^2), range(10)))"
   ]
  },
  {
   "cell_type": "code",
   "execution_count": 58,
   "metadata": {},
   "outputs": [
    {
     "ename": "NameError",
     "evalue": "name 'math' is not defined",
     "output_type": "error",
     "traceback": [
      "\u001b[1;31m---------------------------------------------------------------------------\u001b[0m",
      "\u001b[1;31mNameError\u001b[0m                                 Traceback (most recent call last)",
      "\u001b[1;32m<ipython-input-58-2b15287d39a0>\u001b[0m in \u001b[0;36m<module>\u001b[1;34m\u001b[0m\n\u001b[1;32m----> 1\u001b[1;33m \u001b[0mmath\u001b[0m\u001b[1;33m.\u001b[0m\u001b[0mfact\u001b[0m\u001b[1;33m(\u001b[0m\u001b[1;36m6\u001b[0m\u001b[1;33m)\u001b[0m\u001b[1;33m\u001b[0m\u001b[1;33m\u001b[0m\u001b[0m\n\u001b[0m",
      "\u001b[1;31mNameError\u001b[0m: name 'math' is not defined"
     ]
    }
   ],
   "source": [
    "math.fact(6)"
   ]
  },
  {
   "cell_type": "code",
   "execution_count": 59,
   "metadata": {},
   "outputs": [
    {
     "ename": "NameError",
     "evalue": "name 'my_string' is not defined",
     "output_type": "error",
     "traceback": [
      "\u001b[1;31m---------------------------------------------------------------------------\u001b[0m",
      "\u001b[1;31mNameError\u001b[0m                                 Traceback (most recent call last)",
      "\u001b[1;32m<ipython-input-59-137792478733>\u001b[0m in \u001b[0;36m<module>\u001b[1;34m\u001b[0m\n\u001b[1;32m----> 1\u001b[1;33m \u001b[0mk\u001b[0m \u001b[1;33m=\u001b[0m \u001b[1;33m[\u001b[0m\u001b[0mprint\u001b[0m\u001b[1;33m(\u001b[0m\u001b[0mi\u001b[0m\u001b[1;33m)\u001b[0m \u001b[1;32mfor\u001b[0m \u001b[0mi\u001b[0m \u001b[1;32min\u001b[0m \u001b[0mmy_string\u001b[0m \u001b[1;32mif\u001b[0m \u001b[0mi\u001b[0m \u001b[1;32mnot\u001b[0m \u001b[1;32min\u001b[0m \u001b[1;34m\"aeiou\"\u001b[0m\u001b[1;33m]\u001b[0m\u001b[1;33m\u001b[0m\u001b[1;33m\u001b[0m\u001b[0m\n\u001b[0m",
      "\u001b[1;31mNameError\u001b[0m: name 'my_string' is not defined"
     ]
    }
   ],
   "source": [
    "k = [print(i) for i in my_string if i not in \"aeiou\"]"
   ]
  },
  {
   "cell_type": "code",
   "execution_count": null,
   "metadata": {},
   "outputs": [],
   "source": []
  }
 ],
 "metadata": {
  "kernelspec": {
   "display_name": "Python 3",
   "language": "python",
   "name": "python3"
  },
  "language_info": {
   "codemirror_mode": {
    "name": "ipython",
    "version": 3
   },
   "file_extension": ".py",
   "mimetype": "text/x-python",
   "name": "python",
   "nbconvert_exporter": "python",
   "pygments_lexer": "ipython3",
   "version": "3.7.3"
  }
 },
 "nbformat": 4,
 "nbformat_minor": 2
}
